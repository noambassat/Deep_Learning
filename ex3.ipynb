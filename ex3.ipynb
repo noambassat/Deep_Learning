{
 "cells": [
  {
   "cell_type": "markdown",
   "metadata": {},
   "source": [
    "# Deep Learning: Ex.3 - CNN\n",
    "\n",
    "Submitted by: Noam Bassat 308465434\n"
   ]
  },
  {
   "cell_type": "code",
   "execution_count": 1,
   "metadata": {},
   "outputs": [],
   "source": [
    "# TensorFlow and tf.keras\n",
    "from tensorflow import keras\n",
    "from tensorflow.keras.models import Sequential\n",
    "from tensorflow.keras.layers import Dense, Conv2D, MaxPooling2D, Flatten\n",
    "\n",
    "# Helper libraries\n",
    "import numpy as np\n",
    "import matplotlib.pyplot as plt\n"
   ]
  },
  {
   "cell_type": "markdown",
   "metadata": {},
   "source": [
    "---\n",
    "### Load the MNIST dataset\n",
    "\n",
    "The original dataset contains 60,000 28x28 images.\n",
    "\n",
    "We will use here a smaller version of 5,000 20x20 images.\n",
    "\n",
    "Check the following example: https://keras.io/examples/vision/mnist_convnet/"
   ]
  },
  {
   "cell_type": "code",
   "execution_count": 2,
   "metadata": {},
   "outputs": [
    {
     "name": "stdout",
     "output_type": "stream",
     "text": [
      "X.shape =  (5000, 20, 20, 1)\n",
      "y.shape =  (5000,)\n"
     ]
    }
   ],
   "source": [
    "mnist = np.load('mnist.npz')\n",
    "\n",
    "X = mnist['imgs']\n",
    "y = mnist['labels']\n",
    "\n",
    "X = np.expand_dims(X, -1)  # (5000,20,20) -> (5000,20,20,1)\n",
    "\n",
    "print('X.shape = ',X.shape)\n",
    "print('y.shape = ',y.shape)"
   ]
  },
  {
   "cell_type": "markdown",
   "metadata": {},
   "source": [
    "***\n",
    "\n",
    "Exercise summary:\n",
    "\n",
    "- We will try different models (build, fit on training data, and evaluate on test data).\n",
    "\n",
    "- The input layer is the images (`20x20x1`), and the output layer is a `softmax` of 10 units (one unit for each class).\n",
    "\n",
    "- For each model, plot the training loss & accuracy plots (as shown in class).\n",
    "\n",
    "- Summarize the results of all models in the table below at the end of this notebook.\n",
    "\n"
   ]
  },
  {
   "cell_type": "markdown",
   "metadata": {},
   "source": [
    "***\n",
    "### 1. No hidden layers\n",
    "\n",
    "Just connect all inputs directly to the output layer (always remember to add a `Flatten` layer before using a `Dense` layer).\n",
    "\n",
    "*input -> 10-output*\n"
   ]
  },
  {
   "cell_type": "code",
   "execution_count": 3,
   "metadata": {},
   "outputs": [],
   "source": [
    "def compile_(model, epochs_n,batch_size_n):\n",
    "    model.compile(optimizer='sgd', # stochastic gradient descent\n",
    "              loss='sparse_categorical_crossentropy',\n",
    "              metrics=['accuracy'])\n",
    "\n",
    "    history = model.fit(X, y, epochs=epochs_n, batch_size=128)\n",
    "\n",
    "    return history\n",
    "\n",
    "def Loss_(model, history):\n",
    "    plt.plot(history.history['loss'],'o-')\n",
    "    plt.xlabel('Epochs', fontsize=14)\n",
    "    plt.ylabel('Loss', fontsize=14)\n",
    "    plt.grid()\n",
    "    \n",
    "def Accuracy_(model, history):\n",
    "    plt.plot(history.history['accuracy'],'o-r')\n",
    "    plt.xlabel('Epochs', fontsize=14)\n",
    "    plt.ylabel('Accuracy', fontsize=14)\n",
    "    plt.grid()"
   ]
  },
  {
   "cell_type": "code",
   "execution_count": 4,
   "metadata": {},
   "outputs": [
    {
     "name": "stdout",
     "output_type": "stream",
     "text": [
      "Model: \"sequential\"\n",
      "_________________________________________________________________\n",
      "Layer (type)                 Output Shape              Param #   \n",
      "=================================================================\n",
      "flatten (Flatten)            (None, 400)               0         \n",
      "_________________________________________________________________\n",
      "dense (Dense)                (None, 10)                4010      \n",
      "=================================================================\n",
      "Total params: 4,010\n",
      "Trainable params: 4,010\n",
      "Non-trainable params: 0\n",
      "_________________________________________________________________\n"
     ]
    }
   ],
   "source": [
    "model = Sequential()\n",
    "model.add(Flatten(input_shape=(20, 20,1)))\n",
    "model.add(Dense(10, activation='softmax'))\n",
    "model.summary()"
   ]
  },
  {
   "cell_type": "code",
   "execution_count": 5,
   "metadata": {},
   "outputs": [
    {
     "name": "stdout",
     "output_type": "stream",
     "text": [
      "Epoch 1/50\n",
      "40/40 [==============================] - 0s 1ms/step - loss: 2.4207 - accuracy: 0.1002\n",
      "Epoch 2/50\n",
      "40/40 [==============================] - 0s 769us/step - loss: 2.1899 - accuracy: 0.2158\n",
      "Epoch 3/50\n",
      "40/40 [==============================] - 0s 744us/step - loss: 2.0011 - accuracy: 0.4166\n",
      "Epoch 4/50\n",
      "40/40 [==============================] - 0s 846us/step - loss: 1.8496 - accuracy: 0.5420\n",
      "Epoch 5/50\n",
      "40/40 [==============================] - 0s 1000us/step - loss: 1.7231 - accuracy: 0.6172\n",
      "Epoch 6/50\n",
      "40/40 [==============================] - 0s 923us/step - loss: 1.6157 - accuracy: 0.6488\n",
      "Epoch 7/50\n",
      "40/40 [==============================] - 0s 820us/step - loss: 1.5085 - accuracy: 0.6946\n",
      "Epoch 8/50\n",
      "40/40 [==============================] - 0s 821us/step - loss: 1.4236 - accuracy: 0.7248\n",
      "Epoch 9/50\n",
      "40/40 [==============================] - 0s 872us/step - loss: 1.3477 - accuracy: 0.7384\n",
      "Epoch 10/50\n",
      "40/40 [==============================] - 0s 897us/step - loss: 1.2709 - accuracy: 0.7639\n",
      "Epoch 11/50\n",
      "40/40 [==============================] - 0s 949us/step - loss: 1.2265 - accuracy: 0.7725\n",
      "Epoch 12/50\n",
      "40/40 [==============================] - 0s 897us/step - loss: 1.1783 - accuracy: 0.7879\n",
      "Epoch 13/50\n",
      "40/40 [==============================] - 0s 920us/step - loss: 1.1187 - accuracy: 0.7957\n",
      "Epoch 14/50\n",
      "40/40 [==============================] - 0s 949us/step - loss: 1.0783 - accuracy: 0.8024\n",
      "Epoch 15/50\n",
      "40/40 [==============================] - 0s 923us/step - loss: 1.0568 - accuracy: 0.8031\n",
      "Epoch 16/50\n",
      "40/40 [==============================] - 0s 808us/step - loss: 1.0310 - accuracy: 0.8004\n",
      "Epoch 17/50\n",
      "40/40 [==============================] - 0s 897us/step - loss: 0.9866 - accuracy: 0.8074\n",
      "Epoch 18/50\n",
      "40/40 [==============================] - 0s 846us/step - loss: 0.9716 - accuracy: 0.8109\n",
      "Epoch 19/50\n",
      "40/40 [==============================] - 0s 872us/step - loss: 0.9322 - accuracy: 0.8167\n",
      "Epoch 20/50\n",
      "40/40 [==============================] - 0s 872us/step - loss: 0.9054 - accuracy: 0.8226\n",
      "Epoch 21/50\n",
      "40/40 [==============================] - 0s 949us/step - loss: 0.8853 - accuracy: 0.8285\n",
      "Epoch 22/50\n",
      "40/40 [==============================] - 0s 872us/step - loss: 0.8648 - accuracy: 0.8345\n",
      "Epoch 23/50\n",
      "40/40 [==============================] - 0s 872us/step - loss: 0.8407 - accuracy: 0.8409\n",
      "Epoch 24/50\n",
      "40/40 [==============================] - 0s 846us/step - loss: 0.8350 - accuracy: 0.8375\n",
      "Epoch 25/50\n",
      "40/40 [==============================] - 0s 923us/step - loss: 0.8150 - accuracy: 0.8444\n",
      "Epoch 26/50\n",
      "40/40 [==============================] - 0s 923us/step - loss: 0.8004 - accuracy: 0.8397\n",
      "Epoch 27/50\n",
      "40/40 [==============================] - 0s 872us/step - loss: 0.7918 - accuracy: 0.8358\n",
      "Epoch 28/50\n",
      "40/40 [==============================] - 0s 820us/step - loss: 0.7881 - accuracy: 0.8362\n",
      "Epoch 29/50\n",
      "40/40 [==============================] - 0s 846us/step - loss: 0.7703 - accuracy: 0.8411\n",
      "Epoch 30/50\n",
      "40/40 [==============================] - 0s 923us/step - loss: 0.7422 - accuracy: 0.8509\n",
      "Epoch 31/50\n",
      "40/40 [==============================] - 0s 846us/step - loss: 0.7334 - accuracy: 0.8542\n",
      "Epoch 32/50\n",
      "40/40 [==============================] - 0s 949us/step - loss: 0.7144 - accuracy: 0.8596\n",
      "Epoch 33/50\n",
      "40/40 [==============================] - 0s 949us/step - loss: 0.7164 - accuracy: 0.8550\n",
      "Epoch 34/50\n",
      "40/40 [==============================] - 0s 872us/step - loss: 0.7024 - accuracy: 0.8630\n",
      "Epoch 35/50\n",
      "40/40 [==============================] - 0s 848us/step - loss: 0.7062 - accuracy: 0.8467\n",
      "Epoch 36/50\n",
      "40/40 [==============================] - 0s 872us/step - loss: 0.6782 - accuracy: 0.8579\n",
      "Epoch 37/50\n",
      "40/40 [==============================] - 0s 871us/step - loss: 0.6927 - accuracy: 0.8519\n",
      "Epoch 38/50\n",
      "40/40 [==============================] - 0s 795us/step - loss: 0.6732 - accuracy: 0.8552\n",
      "Epoch 39/50\n",
      "40/40 [==============================] - 0s 846us/step - loss: 0.6682 - accuracy: 0.8542\n",
      "Epoch 40/50\n",
      "40/40 [==============================] - 0s 872us/step - loss: 0.6654 - accuracy: 0.8539\n",
      "Epoch 41/50\n",
      "40/40 [==============================] - 0s 872us/step - loss: 0.6504 - accuracy: 0.8591\n",
      "Epoch 42/50\n",
      "40/40 [==============================] - 0s 898us/step - loss: 0.6676 - accuracy: 0.8488\n",
      "Epoch 43/50\n",
      "40/40 [==============================] - 0s 872us/step - loss: 0.6568 - accuracy: 0.8510\n",
      "Epoch 44/50\n",
      "40/40 [==============================] - 0s 872us/step - loss: 0.6382 - accuracy: 0.8556\n",
      "Epoch 45/50\n",
      "40/40 [==============================] - 0s 846us/step - loss: 0.6230 - accuracy: 0.8692\n",
      "Epoch 46/50\n",
      "40/40 [==============================] - 0s 950us/step - loss: 0.6159 - accuracy: 0.8657\n",
      "Epoch 47/50\n",
      "40/40 [==============================] - 0s 897us/step - loss: 0.6115 - accuracy: 0.8649\n",
      "Epoch 48/50\n",
      "40/40 [==============================] - 0s 872us/step - loss: 0.6090 - accuracy: 0.8617\n",
      "Epoch 49/50\n",
      "40/40 [==============================] - 0s 872us/step - loss: 0.6029 - accuracy: 0.8639\n",
      "Epoch 50/50\n",
      "40/40 [==============================] - 0s 872us/step - loss: 0.5945 - accuracy: 0.8644\n"
     ]
    }
   ],
   "source": [
    "history = compile_(model,50,100)"
   ]
  },
  {
   "cell_type": "code",
   "execution_count": 6,
   "metadata": {
    "scrolled": true
   },
   "outputs": [
    {
     "data": {
      "image/png": "[encoded data removed]",
      "text/plain": [
       "<Figure size 432x288 with 1 Axes>"
      ]
     },
     "metadata": {
      "needs_background": "light"
     },
     "output_type": "display_data"
    }
   ],
   "source": [
    "Loss_(model,history)"
   ]
  },
  {
   "cell_type": "code",
   "execution_count": 7,
   "metadata": {},
   "outputs": [
    {
     "data": {
      "image/png": "[encoded data removed]",
      "text/plain": [
       "<Figure size 432x288 with 1 Axes>"
      ]
     },
     "metadata": {
      "needs_background": "light"
     },
     "output_type": "display_data"
    }
   ],
   "source": [
    "Accuracy_(model,history)"
   ]
  },
  {
   "cell_type": "markdown",
   "metadata": {},
   "source": [
    "***\n",
    "### 2. Dense hidden layer\n",
    "\n",
    "Add a 32-`Dense` layer (32 units) between the input and output.\n",
    "\n",
    "*input -> 32-dense -> 10-output*\n",
    "\n"
   ]
  },
  {
   "cell_type": "code",
   "execution_count": 8,
   "metadata": {},
   "outputs": [
    {
     "name": "stdout",
     "output_type": "stream",
     "text": [
      "Model: \"sequential_1\"\n",
      "_________________________________________________________________\n",
      "Layer (type)                 Output Shape              Param #   \n",
      "=================================================================\n",
      "flatten_1 (Flatten)          (None, 400)               0         \n",
      "_________________________________________________________________\n",
      "dense_1 (Dense)              (None, 32)                12832     \n",
      "_________________________________________________________________\n",
      "dense_2 (Dense)              (None, 10)                330       \n",
      "=================================================================\n",
      "Total params: 13,162\n",
      "Trainable params: 13,162\n",
      "Non-trainable params: 0\n",
      "_________________________________________________________________\n"
     ]
    }
   ],
   "source": [
    "model = Sequential()\n",
    "model.add(Flatten(input_shape=(20, 20,1)))\n",
    "model.add(Dense(32, activation='relu'))\n",
    "model.add(Dense(10, activation='softmax'))\n",
    "model.summary()"
   ]
  },
  {
   "cell_type": "code",
   "execution_count": 9,
   "metadata": {},
   "outputs": [
    {
     "name": "stdout",
     "output_type": "stream",
     "text": [
      "Epoch 1/50\n",
      "40/40 [==============================] - 0s 990us/step - loss: 2.3057 - accuracy: 0.1664\n",
      "Epoch 2/50\n",
      "40/40 [==============================] - 0s 794us/step - loss: 2.1179 - accuracy: 0.3071\n",
      "Epoch 3/50\n",
      "40/40 [==============================] - 0s 866us/step - loss: 1.9598 - accuracy: 0.4382\n",
      "Epoch 4/50\n",
      "40/40 [==============================] - 0s 897us/step - loss: 1.8083 - accuracy: 0.5399\n",
      "Epoch 5/50\n",
      "40/40 [==============================] - 0s 898us/step - loss: 1.6820 - accuracy: 0.5905\n",
      "Epoch 6/50\n",
      "40/40 [==============================] - 0s 897us/step - loss: 1.5385 - accuracy: 0.6579\n",
      "Epoch 7/50\n",
      "40/40 [==============================] - 0s 949us/step - loss: 1.4114 - accuracy: 0.6956\n",
      "Epoch 8/50\n",
      "40/40 [==============================] - 0s 897us/step - loss: 1.3041 - accuracy: 0.7321\n",
      "Epoch 9/50\n",
      "40/40 [==============================] - 0s 872us/step - loss: 1.2064 - accuracy: 0.7461\n",
      "Epoch 10/50\n",
      "40/40 [==============================] - 0s 897us/step - loss: 1.1183 - accuracy: 0.7635\n",
      "Epoch 11/50\n",
      "40/40 [==============================] - 0s 821us/step - loss: 1.0563 - accuracy: 0.7728\n",
      "Epoch 12/50\n",
      "40/40 [==============================] - 0s 897us/step - loss: 0.9953 - accuracy: 0.7860\n",
      "Epoch 13/50\n",
      "40/40 [==============================] - 0s 897us/step - loss: 0.9412 - accuracy: 0.7926\n",
      "Epoch 14/50\n",
      "40/40 [==============================] - 0s 897us/step - loss: 0.8929 - accuracy: 0.8002\n",
      "Epoch 15/50\n",
      "40/40 [==============================] - 0s 897us/step - loss: 0.8439 - accuracy: 0.8069\n",
      "Epoch 16/50\n",
      "40/40 [==============================] - 0s 1ms/step - loss: 0.8189 - accuracy: 0.8160\n",
      "Epoch 17/50\n",
      "40/40 [==============================] - 0s 1ms/step - loss: 0.7786 - accuracy: 0.8271\n",
      "Epoch 18/50\n",
      "40/40 [==============================] - 0s 923us/step - loss: 0.7402 - accuracy: 0.8321\n",
      "Epoch 19/50\n",
      "40/40 [==============================] - 0s 949us/step - loss: 0.7355 - accuracy: 0.8255\n",
      "Epoch 20/50\n",
      "40/40 [==============================] - 0s 975us/step - loss: 0.6871 - accuracy: 0.8491\n",
      "Epoch 21/50\n",
      "40/40 [==============================] - 0s 1000us/step - loss: 0.6649 - accuracy: 0.8453\n",
      "Epoch 22/50\n",
      "40/40 [==============================] - 0s 923us/step - loss: 0.6542 - accuracy: 0.8444\n",
      "Epoch 23/50\n",
      "40/40 [==============================] - 0s 923us/step - loss: 0.6414 - accuracy: 0.8439\n",
      "Epoch 24/50\n",
      "40/40 [==============================] - 0s 1ms/step - loss: 0.6298 - accuracy: 0.8472\n",
      "Epoch 25/50\n",
      "40/40 [==============================] - 0s 923us/step - loss: 0.5933 - accuracy: 0.8576\n",
      "Epoch 26/50\n",
      "40/40 [==============================] - 0s 923us/step - loss: 0.5951 - accuracy: 0.8545\n",
      "Epoch 27/50\n",
      "40/40 [==============================] - 0s 872us/step - loss: 0.5695 - accuracy: 0.8638\n",
      "Epoch 28/50\n",
      "40/40 [==============================] - 0s 949us/step - loss: 0.5685 - accuracy: 0.8635\n",
      "Epoch 29/50\n",
      "40/40 [==============================] - 0s 923us/step - loss: 0.5609 - accuracy: 0.8616\n",
      "Epoch 30/50\n",
      "40/40 [==============================] - 0s 975us/step - loss: 0.5448 - accuracy: 0.8652\n",
      "Epoch 31/50\n",
      "40/40 [==============================] - 0s 872us/step - loss: 0.5331 - accuracy: 0.8768\n",
      "Epoch 32/50\n",
      "40/40 [==============================] - 0s 923us/step - loss: 0.5053 - accuracy: 0.8787\n",
      "Epoch 33/50\n",
      "40/40 [==============================] - 0s 974us/step - loss: 0.5060 - accuracy: 0.8760\n",
      "Epoch 34/50\n",
      "40/40 [==============================] - 0s 1ms/step - loss: 0.4880 - accuracy: 0.8827\n",
      "Epoch 35/50\n",
      "40/40 [==============================] - 0s 949us/step - loss: 0.4996 - accuracy: 0.8710\n",
      "Epoch 36/50\n",
      "40/40 [==============================] - 0s 897us/step - loss: 0.5048 - accuracy: 0.8750\n",
      "Epoch 37/50\n",
      "40/40 [==============================] - 0s 923us/step - loss: 0.4720 - accuracy: 0.8901\n",
      "Epoch 38/50\n",
      "40/40 [==============================] - 0s 897us/step - loss: 0.4732 - accuracy: 0.8840\n",
      "Epoch 39/50\n",
      "40/40 [==============================] - 0s 881us/step - loss: 0.4480 - accuracy: 0.8956\n",
      "Epoch 40/50\n",
      "40/40 [==============================] - 0s 949us/step - loss: 0.4529 - accuracy: 0.8879\n",
      "Epoch 41/50\n",
      "40/40 [==============================] - 0s 872us/step - loss: 0.4463 - accuracy: 0.8856\n",
      "Epoch 42/50\n",
      "40/40 [==============================] - 0s 897us/step - loss: 0.4483 - accuracy: 0.8897\n",
      "Epoch 43/50\n",
      "40/40 [==============================] - 0s 949us/step - loss: 0.4340 - accuracy: 0.8916\n",
      "Epoch 44/50\n",
      "40/40 [==============================] - 0s 923us/step - loss: 0.4299 - accuracy: 0.8922\n",
      "Epoch 45/50\n",
      "40/40 [==============================] - 0s 923us/step - loss: 0.4368 - accuracy: 0.8925\n",
      "Epoch 46/50\n",
      "40/40 [==============================] - 0s 1ms/step - loss: 0.4312 - accuracy: 0.8923\n",
      "Epoch 47/50\n",
      "40/40 [==============================] - 0s 1ms/step - loss: 0.4137 - accuracy: 0.8996\n",
      "Epoch 48/50\n",
      "40/40 [==============================] - 0s 974us/step - loss: 0.4120 - accuracy: 0.8939\n",
      "Epoch 49/50\n",
      "40/40 [==============================] - 0s 949us/step - loss: 0.4078 - accuracy: 0.8999\n",
      "Epoch 50/50\n",
      "40/40 [==============================] - 0s 949us/step - loss: 0.4011 - accuracy: 0.8999\n"
     ]
    }
   ],
   "source": [
    "history = compile_(model,50,100)"
   ]
  },
  {
   "cell_type": "code",
   "execution_count": 10,
   "metadata": {
    "scrolled": true
   },
   "outputs": [
    {
     "data": {
      "image/png": "[encoded data removed]",
      "text/plain": [
       "<Figure size 432x288 with 1 Axes>"
      ]
     },
     "metadata": {
      "needs_background": "light"
     },
     "output_type": "display_data"
    }
   ],
   "source": [
    "Loss_(model, history)"
   ]
  },
  {
   "cell_type": "code",
   "execution_count": 11,
   "metadata": {},
   "outputs": [
    {
     "data": {
      "image/png": "[encoded data removed]",
      "text/plain": [
       "<Figure size 432x288 with 1 Axes>"
      ]
     },
     "metadata": {
      "needs_background": "light"
     },
     "output_type": "display_data"
    }
   ],
   "source": [
    "Accuracy_(model,history)"
   ]
  },
  {
   "cell_type": "markdown",
   "metadata": {},
   "source": [
    "***\n",
    "### 3. Simple ConvNet\n",
    "\n",
    "Use 64 3x3 filters (`Conv2D`) between the input layer and the output layer.\n",
    "\n",
    "*input -> 64-conv -> 10-output*\n",
    "\n"
   ]
  },
  {
   "cell_type": "code",
   "execution_count": 4,
   "metadata": {},
   "outputs": [
    {
     "name": "stdout",
     "output_type": "stream",
     "text": [
      "Model: \"sequential\"\n",
      "_________________________________________________________________\n",
      "Layer (type)                 Output Shape              Param #   \n",
      "=================================================================\n",
      "conv2d (Conv2D)              (None, 18, 18, 64)        640       \n",
      "_________________________________________________________________\n",
      "flatten (Flatten)            (None, 20736)             0         \n",
      "_________________________________________________________________\n",
      "dense (Dense)                (None, 10)                207370    \n",
      "=================================================================\n",
      "Total params: 208,010\n",
      "Trainable params: 208,010\n",
      "Non-trainable params: 0\n",
      "_________________________________________________________________\n"
     ]
    }
   ],
   "source": [
    "model = Sequential()\n",
    "model.add(Conv2D(64,kernel_size = (3,3), activation='relu', input_shape=(20, 20,1)))\n",
    "model.add(Flatten())\n",
    "model.add(Dense(10, activation='softmax'))\n",
    "model.summary()\n"
   ]
  },
  {
   "cell_type": "code",
   "execution_count": 5,
   "metadata": {},
   "outputs": [
    {
     "name": "stdout",
     "output_type": "stream",
     "text": [
      "Epoch 1/20\n",
      "40/40 [==============================] - 1s 15ms/step - loss: 2.2571 - accuracy: 0.2880\n",
      "Epoch 2/20\n",
      "40/40 [==============================] - 1s 16ms/step - loss: 2.0140 - accuracy: 0.6260\n",
      "Epoch 3/20\n",
      "40/40 [==============================] - 1s 15ms/step - loss: 1.6003 - accuracy: 0.7889\n",
      "Epoch 4/20\n",
      "40/40 [==============================] - 1s 15ms/step - loss: 1.1357 - accuracy: 0.8224\n",
      "Epoch 5/20\n",
      "40/40 [==============================] - 1s 15ms/step - loss: 0.8437 - accuracy: 0.8318\n",
      "Epoch 6/20\n",
      "40/40 [==============================] - 1s 15ms/step - loss: 0.6845 - accuracy: 0.8500\n",
      "Epoch 7/20\n",
      "40/40 [==============================] - 1s 15ms/step - loss: 0.5734 - accuracy: 0.8751\n",
      "Epoch 8/20\n",
      "40/40 [==============================] - 1s 15ms/step - loss: 0.5393 - accuracy: 0.8631\n",
      "Epoch 9/20\n",
      "40/40 [==============================] - 1s 15ms/step - loss: 0.4929 - accuracy: 0.8710\n",
      "Epoch 10/20\n",
      "40/40 [==============================] - 1s 15ms/step - loss: 0.4520 - accuracy: 0.8837\n",
      "Epoch 11/20\n",
      "40/40 [==============================] - 1s 16ms/step - loss: 0.4488 - accuracy: 0.8752\n",
      "Epoch 12/20\n",
      "40/40 [==============================] - 1s 16ms/step - loss: 0.4123 - accuracy: 0.8929\n",
      "Epoch 13/20\n",
      "40/40 [==============================] - 1s 15ms/step - loss: 0.4024 - accuracy: 0.8931\n",
      "Epoch 14/20\n",
      "40/40 [==============================] - 1s 15ms/step - loss: 0.3897 - accuracy: 0.8893\n",
      "Epoch 15/20\n",
      "40/40 [==============================] - 1s 15ms/step - loss: 0.3703 - accuracy: 0.8973\n",
      "Epoch 16/20\n",
      "40/40 [==============================] - 1s 15ms/step - loss: 0.3655 - accuracy: 0.8960\n",
      "Epoch 17/20\n",
      "40/40 [==============================] - 1s 16ms/step - loss: 0.3836 - accuracy: 0.8960\n",
      "Epoch 18/20\n",
      "40/40 [==============================] - 1s 15ms/step - loss: 0.3645 - accuracy: 0.8991\n",
      "Epoch 19/20\n",
      "40/40 [==============================] - 1s 15ms/step - loss: 0.3454 - accuracy: 0.9046\n",
      "Epoch 20/20\n",
      "40/40 [==============================] - 1s 16ms/step - loss: 0.3420 - accuracy: 0.9074\n"
     ]
    }
   ],
   "source": [
    "history = compile_(model, 20,100)"
   ]
  },
  {
   "cell_type": "code",
   "execution_count": 6,
   "metadata": {},
   "outputs": [
    {
     "data": {
      "image/png": "[encoded data removed]",
      "text/plain": [
       "<Figure size 432x288 with 1 Axes>"
      ]
     },
     "metadata": {
      "needs_background": "light"
     },
     "output_type": "display_data"
    }
   ],
   "source": [
    "Loss_(model,history)"
   ]
  },
  {
   "cell_type": "code",
   "execution_count": 7,
   "metadata": {},
   "outputs": [
    {
     "data": {
      "image/png": "[encoded data removed]",
      "text/plain": [
       "<Figure size 432x288 with 1 Axes>"
      ]
     },
     "metadata": {
      "needs_background": "light"
     },
     "output_type": "display_data"
    }
   ],
   "source": [
    "Accuracy_(model, history)"
   ]
  },
  {
   "cell_type": "markdown",
   "metadata": {},
   "source": [
    "***\n",
    "### 4. Bigger ConvNet\n",
    "\n",
    "Apply the following layers (between the input and output layers):\n",
    "- 32 3x3-`Conv2D` + 2x2 `MaxPooling`\n",
    "- 64 3x3-`Conv2D` + 2x2 `MaxPooling`\n",
    "- 128 3x3-`Conv2D` + 2x2 `MaxPooling`\n",
    "- 128-`Dense`\n",
    "\n",
    "Use `padding='same'` in the Conv2D layers."
   ]
  },
  {
   "cell_type": "code",
   "execution_count": 8,
   "metadata": {},
   "outputs": [
    {
     "name": "stdout",
     "output_type": "stream",
     "text": [
      "Model: \"sequential_1\"\n",
      "_________________________________________________________________\n",
      "Layer (type)                 Output Shape              Param #   \n",
      "=================================================================\n",
      "conv2d_1 (Conv2D)            (None, 20, 20, 32)        320       \n",
      "_________________________________________________________________\n",
      "max_pooling2d (MaxPooling2D) (None, 10, 10, 32)        0         \n",
      "_________________________________________________________________\n",
      "conv2d_2 (Conv2D)            (None, 10, 10, 64)        18496     \n",
      "_________________________________________________________________\n",
      "max_pooling2d_1 (MaxPooling2 (None, 5, 5, 64)          0         \n",
      "_________________________________________________________________\n",
      "conv2d_3 (Conv2D)            (None, 5, 5, 128)         73856     \n",
      "_________________________________________________________________\n",
      "max_pooling2d_2 (MaxPooling2 (None, 2, 2, 128)         0         \n",
      "_________________________________________________________________\n",
      "flatten_1 (Flatten)          (None, 512)               0         \n",
      "_________________________________________________________________\n",
      "dense_1 (Dense)              (None, 128)               65664     \n",
      "=================================================================\n",
      "Total params: 158,336\n",
      "Trainable params: 158,336\n",
      "Non-trainable params: 0\n",
      "_________________________________________________________________\n"
     ]
    }
   ],
   "source": [
    "model = Sequential()\n",
    "model.add(Conv2D(32,kernel_size = (3,3), activation='relu',padding='same', input_shape=(20, 20,1)))\n",
    "model.add(MaxPooling2D(pool_size=(2,2)))\n",
    "model.add(Conv2D(64,kernel_size = (3,3), activation='relu',padding='same'))\n",
    "model.add(MaxPooling2D(pool_size=(2,2)))\n",
    "model.add(Conv2D(128,kernel_size = (3,3), activation='relu',padding='same'))\n",
    "model.add(MaxPooling2D(pool_size=(2,2)))\n",
    "model.add(Flatten())\n",
    "model.add(Dense(128, activation='softmax'))\n",
    "model.summary()"
   ]
  },
  {
   "cell_type": "code",
   "execution_count": 9,
   "metadata": {},
   "outputs": [
    {
     "name": "stdout",
     "output_type": "stream",
     "text": [
      "Epoch 1/30\n",
      "40/40 [==============================] - 2s 39ms/step - loss: 4.7480 - accuracy: 0.0380\n",
      "Epoch 2/30\n",
      "40/40 [==============================] - 2s 39ms/step - loss: 3.6816 - accuracy: 0.1022\n",
      "Epoch 3/30\n",
      "40/40 [==============================] - 1s 36ms/step - loss: 2.2405 - accuracy: 0.2619\n",
      "Epoch 4/30\n",
      "40/40 [==============================] - 1s 36ms/step - loss: 2.0374 - accuracy: 0.4111\n",
      "Epoch 5/30\n",
      "40/40 [==============================] - 1s 37ms/step - loss: 1.8780 - accuracy: 0.4662\n",
      "Epoch 6/30\n",
      "40/40 [==============================] - 1s 36ms/step - loss: 1.6896 - accuracy: 0.5000\n",
      "Epoch 7/30\n",
      "40/40 [==============================] - 1s 37ms/step - loss: 1.4998 - accuracy: 0.5694\n",
      "Epoch 8/30\n",
      "40/40 [==============================] - 1s 37ms/step - loss: 1.5024 - accuracy: 0.6097\n",
      "Epoch 9/30\n",
      "40/40 [==============================] - 1s 37ms/step - loss: 1.1235 - accuracy: 0.6767\n",
      "Epoch 10/30\n",
      "40/40 [==============================] - 2s 39ms/step - loss: 0.9762 - accuracy: 0.7062\n",
      "Epoch 11/30\n",
      "40/40 [==============================] - 1s 37ms/step - loss: 0.9833 - accuracy: 0.6987\n",
      "Epoch 12/30\n",
      "40/40 [==============================] - 2s 41ms/step - loss: 1.1065 - accuracy: 0.7297\n",
      "Epoch 13/30\n",
      "40/40 [==============================] - 2s 39ms/step - loss: 0.8012 - accuracy: 0.7707\n",
      "Epoch 14/30\n",
      "40/40 [==============================] - 2s 39ms/step - loss: 0.5861 - accuracy: 0.8238\n",
      "Epoch 15/30\n",
      "40/40 [==============================] - 1s 37ms/step - loss: 0.7369 - accuracy: 0.7838\n",
      "Epoch 16/30\n",
      "40/40 [==============================] - 1s 37ms/step - loss: 0.6012 - accuracy: 0.8127\n",
      "Epoch 17/30\n",
      "40/40 [==============================] - 2s 38ms/step - loss: 0.7494 - accuracy: 0.8019\n",
      "Epoch 18/30\n",
      "40/40 [==============================] - 2s 37ms/step - loss: 0.5583 - accuracy: 0.8324\n",
      "Epoch 19/30\n",
      "40/40 [==============================] - 2s 38ms/step - loss: 0.4316 - accuracy: 0.8724\n",
      "Epoch 20/30\n",
      "40/40 [==============================] - 2s 39ms/step - loss: 0.5262 - accuracy: 0.8373\n",
      "Epoch 21/30\n",
      "40/40 [==============================] - 2s 39ms/step - loss: 0.5983 - accuracy: 0.8348\n",
      "Epoch 22/30\n",
      "40/40 [==============================] - 2s 41ms/step - loss: 0.3996 - accuracy: 0.8792\n",
      "Epoch 23/30\n",
      "40/40 [==============================] - 2s 41ms/step - loss: 0.6413 - accuracy: 0.8364\n",
      "Epoch 24/30\n",
      "40/40 [==============================] - 2s 38ms/step - loss: 0.3245 - accuracy: 0.9110\n",
      "Epoch 25/30\n",
      "40/40 [==============================] - 2s 40ms/step - loss: 0.4018 - accuracy: 0.8812\n",
      "Epoch 26/30\n",
      "40/40 [==============================] - 2s 39ms/step - loss: 0.3381 - accuracy: 0.8963\n",
      "Epoch 27/30\n",
      "40/40 [==============================] - 1s 37ms/step - loss: 0.3211 - accuracy: 0.9036\n",
      "Epoch 28/30\n",
      "40/40 [==============================] - 2s 38ms/step - loss: 0.2943 - accuracy: 0.9085\n",
      "Epoch 29/30\n",
      "40/40 [==============================] - 2s 38ms/step - loss: 0.3009 - accuracy: 0.9087\n",
      "Epoch 30/30\n",
      "40/40 [==============================] - 2s 39ms/step - loss: 0.2802 - accuracy: 0.9195\n"
     ]
    }
   ],
   "source": [
    "history = compile_(model,30,80)"
   ]
  },
  {
   "cell_type": "code",
   "execution_count": 10,
   "metadata": {},
   "outputs": [
    {
     "data": {
      "image/png": "[encoded data removed]",
      "text/plain": [
       "<Figure size 432x288 with 1 Axes>"
      ]
     },
     "metadata": {
      "needs_background": "light"
     },
     "output_type": "display_data"
    }
   ],
   "source": [
    "Loss_(model,history)\n"
   ]
  },
  {
   "cell_type": "code",
   "execution_count": 11,
   "metadata": {},
   "outputs": [
    {
     "data": {
      "image/png": "[encoded data removed]",
      "text/plain": [
       "<Figure size 432x288 with 1 Axes>"
      ]
     },
     "metadata": {
      "needs_background": "light"
     },
     "output_type": "display_data"
    }
   ],
   "source": [
    "Accuracy_(model,history)"
   ]
  },
  {
   "cell_type": "markdown",
   "metadata": {},
   "source": [
    "---\n",
    "\n",
    "### Summarize \n",
    "\n",
    "Summarize your findings in the table below (edit this markdown cell).\n",
    "\n",
    "<table>\n",
    "  <tr>\n",
    "    <th>Model</th>\n",
    "    <th>#parameters</th>\n",
    "    <th>batch-size</th>\n",
    "    <th>epochs</th>\n",
    "    <th>accuracy</th>\n",
    "  </tr>\n",
    "    \n",
    "  <!-- copy this block once for every model you tested -->  \n",
    "  <tr> \n",
    "    <td>1</td>   <!-- Model -->\n",
    "    <td>  4010 </td> <!-- #parameters -->\n",
    "    <td>100</td> <!-- batch-size -->\n",
    "    <td>50</td> <!-- epochs -->\n",
    "    <td>0.8644</td> <!-- accuracy -->\n",
    "  </tr>\n",
    "    \n",
    "   <tr> \n",
    "    <td>2</td>   <!-- Model -->\n",
    "    <td>  13162 </td> <!-- #parameters -->\n",
    "    <td>100</td> <!-- batch-size -->\n",
    "    <td>50</td> <!-- epochs -->\n",
    "    <td>0.8999</td> <!-- accuracy -->\n",
    "  </tr>\n",
    "    \n",
    "   <tr> \n",
    "    <td>3</td>   <!-- Model -->\n",
    "    <td>  208010 </td> <!-- #parameters -->\n",
    "    <td>80</td> <!-- batch-size -->\n",
    "    <td>20</td> <!-- epochs -->\n",
    "    <td>0.9074</td> <!-- accuracy -->\n",
    "  </tr>\n",
    "    \n",
    "   <tr> \n",
    "    <td>4</td>   <!-- Model -->\n",
    "    <td> 158336 </td> <!-- #parameters -->\n",
    "    <td>80</td> <!-- batch-size -->\n",
    "    <td>30</td> <!-- epochs -->\n",
    "    <td>0.9195</td> <!-- accuracy -->\n",
    "  </tr>\n",
    "    \n",
    " \n",
    "</table>\n",
    "\n",
    "\n"
   ]
  },
  {
   "cell_type": "markdown",
   "metadata": {},
   "source": [
    "***\n",
    "## Good Luck!"
   ]
  }
 ],
 "metadata": {
  "kernelspec": {
   "display_name": "Python 3",
   "language": "python",
   "name": "python3"
  },
  "language_info": {
   "codemirror_mode": {
    "name": "ipython",
    "version": 3
   },
   "file_extension": ".py",
   "mimetype": "text/x-python",
   "name": "python",
   "nbconvert_exporter": "python",
   "pygments_lexer": "ipython3",
   "version": "3.8.3"
  }
 },
 "nbformat": 4,
 "nbformat_minor": 4
}
