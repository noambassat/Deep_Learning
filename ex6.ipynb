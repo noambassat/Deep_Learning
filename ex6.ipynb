{
  "nbformat": 4,
  "nbformat_minor": 0,
  "metadata": {
    "kernelspec": {
      "display_name": "Python 3",
      "language": "python",
      "name": "python3"
    },
    "language_info": {
      "codemirror_mode": {
        "name": "ipython",
        "version": 3
      },
      "file_extension": ".py",
      "mimetype": "text/x-python",
      "name": "python",
      "nbconvert_exporter": "python",
      "pygments_lexer": "ipython3",
      "version": "3.8.3"
    },
    "colab": {
      "name": "ex6.ipynb",
      "provenance": [],
      "collapsed_sections": []
    },
    "accelerator": "GPU"
  },
  "cells": [
    {
      "cell_type": "code",
      "metadata": {
        "id": "R2R2ycebEjYu"
      },
      "source": [
        ""
      ],
      "execution_count": null,
      "outputs": []
    },
    {
      "cell_type": "markdown",
      "metadata": {
        "id": "B0PbeEV9EjYw"
      },
      "source": [
        "# Deep Learning: Ex.6 - **Transfer Learning**\n",
        "\n",
        "Submitted by: Noam Bassat 308465434\n"
      ]
    },
    {
      "cell_type": "code",
      "metadata": {
        "id": "3TzXLsrmT45u"
      },
      "source": [
        ""
      ],
      "execution_count": null,
      "outputs": []
    },
    {
      "cell_type": "code",
      "metadata": {
        "colab": {
          "base_uri": "https://localhost:8080/"
        },
        "id": "VENVwU1sEjYx",
        "outputId": "5012d9fe-3d1d-4439-c29d-41bdb90c7622"
      },
      "source": [
        "# TensorFlow and tf.keras\n",
        "import tensorflow as tf\n",
        "from tensorflow import keras\n",
        "from tensorflow.keras.models import Sequential, Model\n",
        "from tensorflow.keras.layers import Dense, Dropout, Activation, Flatten, Conv2D, MaxPooling2D\n",
        "# Helper libraries\n",
        "import numpy as np\n",
        "import matplotlib.pyplot as plt\n",
        "\n",
        "print(tf.__version__)\n",
        "\n",
        "\n",
        "### categorical_crossentropy"
      ],
      "execution_count": null,
      "outputs": [
        {
          "output_type": "stream",
          "text": [
            "2.4.1\n"
          ],
          "name": "stdout"
        }
      ]
    },
    {
      "cell_type": "markdown",
      "metadata": {
        "id": "jOuVeTrNEjYx"
      },
      "source": [
        "***\n",
        "### 1. Create the model\n",
        "\n",
        "Load the pre-trained VGG16 model without its \"classifier top\".\n",
        "\n",
        "- Create a new `Sequential` model\n",
        "- add the VGG16 (without its \"top\") as the new model's first layer\n",
        "- add a new \"top\": `Flatten`(), 256-`Dense` (ReLU), `Dropout`(0.5), 17-`Dense` (Softmax)\n",
        "- freeze the weights in the first layer (of the new model (= the pre-trained VGG16 model)\n",
        "- print the model summary\n",
        "- how many trainable parameters you have?"
      ]
    },
    {
      "cell_type": "code",
      "metadata": {
        "colab": {
          "base_uri": "https://localhost:8080/"
        },
        "id": "pOSDoEA9EjYy",
        "outputId": "14b6d5da-ab3b-4ae2-c3da-ddb8afcbd277"
      },
      "source": [
        "\n",
        "vgg16 = tf.keras.applications.VGG16(input_shape=(224,224,3),\n",
        "                                               include_top=False)\n",
        "\n",
        "\n",
        "\n",
        "model = Sequential(vgg16)\n",
        "model.add(Flatten())\n",
        "model.add(Dense(256, activation='relu'))\n",
        "model.add(Dropout(0.5))\n",
        "model.add(Dense(17, activation='softmax'))\n",
        "model.layers[0].trainable = False\n",
        "model.summary() # 6,427,153 trainable parameters\n"
      ],
      "execution_count": null,
      "outputs": [
        {
          "output_type": "stream",
          "text": [
            "Model: \"sequential_9\"\n",
            "_________________________________________________________________\n",
            "Layer (type)                 Output Shape              Param #   \n",
            "=================================================================\n",
            "vgg16 (Functional)           (None, 7, 7, 512)         14714688  \n",
            "_________________________________________________________________\n",
            "flatten_8 (Flatten)          (None, 25088)             0         \n",
            "_________________________________________________________________\n",
            "dense_16 (Dense)             (None, 256)               6422784   \n",
            "_________________________________________________________________\n",
            "dropout_8 (Dropout)          (None, 256)               0         \n",
            "_________________________________________________________________\n",
            "dense_17 (Dense)             (None, 17)                4369      \n",
            "=================================================================\n",
            "Total params: 21,141,841\n",
            "Trainable params: 6,427,153\n",
            "Non-trainable params: 14,714,688\n",
            "_________________________________________________________________\n"
          ],
          "name": "stdout"
        }
      ]
    },
    {
      "cell_type": "markdown",
      "metadata": {
        "id": "OnFjRndJOgmf"
      },
      "source": [
        "2. Train the new \"top\"\n",
        "Train the new model (with the frozen VGG layers) over the flower-17 dataset.\n",
        "\n",
        "Dataset: either download the dataset from the Moodle link, or if using google colab, use:\n",
        "\n",
        "!git clone https://github.com/rubinj/Flowers-17.git\n",
        "\n",
        "Use data augmentation for the training. Remeber to rescale the images rescale=1./255 and to set the target_size of the images to (224,224).\n",
        "\n",
        "Note: you will need to rescale the testing images (for validation) as well. However, we do not use data augmentation of the testing images (we validate our models on the original testing images, no need to generate more of them). To this aim, create another ImageDataGenerator for the testing images using only the rescale=1./255 option.\n",
        "\n",
        "(using RMSProp you should get 80-90% validatation accuaracy in 20-30 epochs..)\n",
        "\n",
        "Plot loss and accuracy plots (for both train and validation).\n"
      ]
    },
    {
      "cell_type": "code",
      "metadata": {
        "colab": {
          "base_uri": "https://localhost:8080/"
        },
        "id": "3Zam_ETiEr3P",
        "outputId": "4a277acc-2cba-4d57-b8a0-117fbc956668"
      },
      "source": [
        "!git clone https://github.com/rubinj/Flowers-17.git"
      ],
      "execution_count": null,
      "outputs": [
        {
          "output_type": "stream",
          "text": [
            "fatal: destination path 'Flowers-17' already exists and is not an empty directory.\n"
          ],
          "name": "stdout"
        }
      ]
    },
    {
      "cell_type": "code",
      "metadata": {
        "id": "DfOtyG3kRYz_"
      },
      "source": [
        ""
      ],
      "execution_count": null,
      "outputs": []
    },
    {
      "cell_type": "code",
      "metadata": {
        "colab": {
          "base_uri": "https://localhost:8080/"
        },
        "id": "2e0iHh1cEjYz",
        "outputId": "f6e654ea-c822-4cbf-d328-c140dd7fda1c"
      },
      "source": [
        "from tensorflow.keras.preprocessing.image import ImageDataGenerator\n",
        "\n",
        "dataGen = ImageDataGenerator(rescale=1./255, shear_range=0.2, zoom_range=0.2, horizontal_flip=True)\n",
        "\n",
        "x_batch, y_batch = train_generator.next()\n",
        "train_generator = dataGen.flow_from_directory('Flowers-17/train', target_size=(224,224), batch_size=32)\n",
        "dataGen = ImageDataGenerator(rescale=1./255)\n",
        "test_generator = dataGen.flow_from_directory('Flowers-17/validation', target_size=(224,224), batch_size=32)\n"
      ],
      "execution_count": null,
      "outputs": [
        {
          "output_type": "stream",
          "text": [
            "Found 1190 images belonging to 17 classes.\n",
            "Found 170 images belonging to 17 classes.\n"
          ],
          "name": "stdout"
        }
      ]
    },
    {
      "cell_type": "code",
      "metadata": {
        "id": "AttPxrEdLPbj"
      },
      "source": [
        "opt = tf.keras.optimizers.RMSprop()\n",
        "model.compile(optimizer=opt,\n",
        "                  loss='categorical_crossentropy',\n",
        "                  metrics=['accuracy'])\n"
      ],
      "execution_count": null,
      "outputs": []
    },
    {
      "cell_type": "code",
      "metadata": {
        "colab": {
          "base_uri": "https://localhost:8080/"
        },
        "id": "W4FmvHDnEjYz",
        "outputId": "b6f424e1-3dd6-4a32-aaf6-0d7488b9cc19"
      },
      "source": [
        "history = model.fit(train_generator, epochs=29,\n",
        "                    validation_data=(test_generator))"
      ],
      "execution_count": null,
      "outputs": [
        {
          "output_type": "stream",
          "text": [
            "Epoch 1/29\n",
            "38/38 [==============================] - 19s 486ms/step - loss: 5.8206 - accuracy: 0.1194 - val_loss: 1.7648 - val_accuracy: 0.4529\n",
            "Epoch 2/29\n",
            "38/38 [==============================] - 18s 479ms/step - loss: 2.3902 - accuracy: 0.2656 - val_loss: 1.4303 - val_accuracy: 0.5471\n",
            "Epoch 3/29\n",
            "38/38 [==============================] - 18s 481ms/step - loss: 1.9277 - accuracy: 0.3906 - val_loss: 1.1616 - val_accuracy: 0.7118\n",
            "Epoch 4/29\n",
            "38/38 [==============================] - 19s 497ms/step - loss: 1.6962 - accuracy: 0.4679 - val_loss: 0.8249 - val_accuracy: 0.7176\n",
            "Epoch 5/29\n",
            "38/38 [==============================] - 19s 500ms/step - loss: 1.3718 - accuracy: 0.5533 - val_loss: 1.0118 - val_accuracy: 0.6294\n",
            "Epoch 6/29\n",
            "38/38 [==============================] - 19s 495ms/step - loss: 1.2447 - accuracy: 0.5970 - val_loss: 0.6657 - val_accuracy: 0.7882\n",
            "Epoch 7/29\n",
            "38/38 [==============================] - 19s 489ms/step - loss: 1.1559 - accuracy: 0.6329 - val_loss: 0.5081 - val_accuracy: 0.8294\n",
            "Epoch 8/29\n",
            "38/38 [==============================] - 19s 495ms/step - loss: 1.0180 - accuracy: 0.6864 - val_loss: 0.5384 - val_accuracy: 0.8353\n",
            "Epoch 9/29\n",
            "38/38 [==============================] - 19s 495ms/step - loss: 1.0419 - accuracy: 0.6569 - val_loss: 0.6776 - val_accuracy: 0.7588\n",
            "Epoch 10/29\n",
            "38/38 [==============================] - 19s 492ms/step - loss: 0.8731 - accuracy: 0.6925 - val_loss: 0.4307 - val_accuracy: 0.8941\n",
            "Epoch 11/29\n",
            "38/38 [==============================] - 20s 513ms/step - loss: 0.9233 - accuracy: 0.7041 - val_loss: 0.4527 - val_accuracy: 0.8588\n",
            "Epoch 12/29\n",
            "38/38 [==============================] - 19s 507ms/step - loss: 0.7498 - accuracy: 0.7329 - val_loss: 0.4604 - val_accuracy: 0.8706\n",
            "Epoch 13/29\n",
            "38/38 [==============================] - 19s 508ms/step - loss: 0.7278 - accuracy: 0.7498 - val_loss: 0.4690 - val_accuracy: 0.8824\n",
            "Epoch 14/29\n",
            "38/38 [==============================] - 19s 504ms/step - loss: 0.6641 - accuracy: 0.7660 - val_loss: 0.4129 - val_accuracy: 0.8471\n",
            "Epoch 15/29\n",
            "38/38 [==============================] - 19s 497ms/step - loss: 0.6439 - accuracy: 0.7718 - val_loss: 0.4843 - val_accuracy: 0.8412\n",
            "Epoch 16/29\n",
            "38/38 [==============================] - 19s 498ms/step - loss: 0.5975 - accuracy: 0.8111 - val_loss: 0.4405 - val_accuracy: 0.8647\n",
            "Epoch 17/29\n",
            "38/38 [==============================] - 19s 501ms/step - loss: 0.6737 - accuracy: 0.7737 - val_loss: 0.3450 - val_accuracy: 0.8941\n",
            "Epoch 18/29\n",
            "38/38 [==============================] - 19s 499ms/step - loss: 0.5509 - accuracy: 0.8192 - val_loss: 0.3904 - val_accuracy: 0.8941\n",
            "Epoch 19/29\n",
            "38/38 [==============================] - 19s 501ms/step - loss: 0.4513 - accuracy: 0.8387 - val_loss: 0.3590 - val_accuracy: 0.9000\n",
            "Epoch 20/29\n",
            "38/38 [==============================] - 19s 500ms/step - loss: 0.5486 - accuracy: 0.8129 - val_loss: 0.3596 - val_accuracy: 0.8882\n",
            "Epoch 21/29\n",
            "38/38 [==============================] - 19s 497ms/step - loss: 0.4978 - accuracy: 0.8490 - val_loss: 0.4359 - val_accuracy: 0.8765\n",
            "Epoch 22/29\n",
            "38/38 [==============================] - 19s 493ms/step - loss: 0.4986 - accuracy: 0.8353 - val_loss: 0.2652 - val_accuracy: 0.9235\n",
            "Epoch 23/29\n",
            "38/38 [==============================] - 18s 483ms/step - loss: 0.4459 - accuracy: 0.8526 - val_loss: 0.4786 - val_accuracy: 0.8765\n",
            "Epoch 24/29\n",
            "38/38 [==============================] - 19s 489ms/step - loss: 0.4809 - accuracy: 0.8417 - val_loss: 0.4819 - val_accuracy: 0.8824\n",
            "Epoch 25/29\n",
            "38/38 [==============================] - 19s 495ms/step - loss: 0.4551 - accuracy: 0.8558 - val_loss: 0.3653 - val_accuracy: 0.8882\n",
            "Epoch 26/29\n",
            "38/38 [==============================] - 19s 494ms/step - loss: 0.4371 - accuracy: 0.8471 - val_loss: 0.5286 - val_accuracy: 0.8882\n",
            "Epoch 27/29\n",
            "38/38 [==============================] - 19s 509ms/step - loss: 0.3888 - accuracy: 0.8720 - val_loss: 0.4476 - val_accuracy: 0.8824\n",
            "Epoch 28/29\n",
            "38/38 [==============================] - 19s 496ms/step - loss: 0.3839 - accuracy: 0.8798 - val_loss: 0.4741 - val_accuracy: 0.8706\n",
            "Epoch 29/29\n",
            "38/38 [==============================] - 19s 494ms/step - loss: 0.3413 - accuracy: 0.8878 - val_loss: 0.4157 - val_accuracy: 0.8765\n"
          ],
          "name": "stdout"
        }
      ]
    },
    {
      "cell_type": "code",
      "metadata": {
        "colab": {
          "base_uri": "https://localhost:8080/",
          "height": 259
        },
        "id": "1iFubjOfR36f",
        "outputId": "f1e5c410-e9ca-445a-9361-45f3763bb419"
      },
      "source": [
        "plt.figure(figsize=(14,4))\n",
        "plt.subplot(1,2,1)\n",
        "plt.plot(history.history['loss'],'r')\n",
        "plt.plot(history.history['val_loss'],':g')\n",
        "plt.title('Loss',fontsize=14)\n",
        "plt.xlabel('Epochs',fontsize=14)\n",
        "plt.legend(('loss','val_loss'))\n",
        "plt.grid()\n",
        "\n",
        "plt.subplot(1,2,2)\n",
        "plt.plot(history.history['accuracy'],'r')\n",
        "plt.plot(history.history['val_accuracy'],':g')\n",
        "plt.ylim([0, 1])\n",
        "plt.legend(('accuracy','val_accuracy'))\n",
        "plt.title('Accuracy',fontsize=12)\n",
        "plt.xlabel('Epochs',fontsize=12)\n",
        "plt.grid()"
      ],
      "execution_count": null,
      "outputs": [
        {
          "output_type": "display_data",
          "data": {
            "image/png": "[encoded data removed]",
            "text/plain": [
              "<Figure size 1008x288 with 2 Axes>"
            ]
          },
          "metadata": {
            "tags": [],
            "needs_background": "light"
          }
        }
      ]
    },
    {
      "cell_type": "markdown",
      "metadata": {
        "id": "HAOe7QWOEjYz"
      },
      "source": [
        "***\n",
        "### 3. Fine tune all params\n",
        "\n",
        "At this point, you can 'unfreeze' the VGG layers and continue the training process (with slower learning rate) to get better results.\n",
        "\n",
        "(using `SGD(lr=0.0001, momentum=0.9)` you should get over 90% validatation accuaracy in 20-30 epochs..)\n",
        "\n",
        "Remember to recompile your model, in order to the changes to take effect.\n",
        "\n",
        "Plot loss and accuracy plots (for both train and validation)."
      ]
    },
    {
      "cell_type": "code",
      "metadata": {
        "colab": {
          "base_uri": "https://localhost:8080/"
        },
        "id": "R6rRfKzHEjY0",
        "outputId": "6c0ca37e-0b67-405d-ac4d-b8678819a6ef"
      },
      "source": [
        "opt = tf.keras.optimizers.SGD(lr=0.0001, momentum=0.9)\n",
        "model.compile(optimizer=opt,\n",
        "                  loss='categorical_crossentropy',\n",
        "                  metrics=['accuracy'])\n",
        "history = model.fit(train_generator, epochs=20,\n",
        "                    validation_data=(test_generator))"
      ],
      "execution_count": null,
      "outputs": [
        {
          "output_type": "stream",
          "text": [
            "Epoch 1/20\n",
            "38/38 [==============================] - 20s 498ms/step - loss: 0.3123 - accuracy: 0.8900 - val_loss: 0.3614 - val_accuracy: 0.9000\n",
            "Epoch 2/20\n",
            "38/38 [==============================] - 19s 488ms/step - loss: 0.2320 - accuracy: 0.9289 - val_loss: 0.3478 - val_accuracy: 0.9059\n",
            "Epoch 3/20\n",
            "38/38 [==============================] - 19s 486ms/step - loss: 0.2187 - accuracy: 0.9188 - val_loss: 0.3390 - val_accuracy: 0.9059\n",
            "Epoch 4/20\n",
            "38/38 [==============================] - 18s 484ms/step - loss: 0.1886 - accuracy: 0.9311 - val_loss: 0.3360 - val_accuracy: 0.9118\n",
            "Epoch 5/20\n",
            "38/38 [==============================] - 18s 482ms/step - loss: 0.1705 - accuracy: 0.9486 - val_loss: 0.3378 - val_accuracy: 0.9176\n",
            "Epoch 6/20\n",
            "38/38 [==============================] - 18s 484ms/step - loss: 0.1702 - accuracy: 0.9431 - val_loss: 0.3371 - val_accuracy: 0.9118\n",
            "Epoch 7/20\n",
            "38/38 [==============================] - 18s 483ms/step - loss: 0.1857 - accuracy: 0.9418 - val_loss: 0.3305 - val_accuracy: 0.9118\n",
            "Epoch 8/20\n",
            "38/38 [==============================] - 18s 482ms/step - loss: 0.1769 - accuracy: 0.9424 - val_loss: 0.3284 - val_accuracy: 0.9176\n",
            "Epoch 9/20\n",
            "38/38 [==============================] - 19s 486ms/step - loss: 0.1844 - accuracy: 0.9316 - val_loss: 0.3316 - val_accuracy: 0.9176\n",
            "Epoch 10/20\n",
            "38/38 [==============================] - 18s 480ms/step - loss: 0.1843 - accuracy: 0.9331 - val_loss: 0.3229 - val_accuracy: 0.9176\n",
            "Epoch 11/20\n",
            "38/38 [==============================] - 18s 494ms/step - loss: 0.1618 - accuracy: 0.9474 - val_loss: 0.3221 - val_accuracy: 0.9176\n",
            "Epoch 12/20\n",
            "38/38 [==============================] - 18s 480ms/step - loss: 0.1567 - accuracy: 0.9506 - val_loss: 0.3247 - val_accuracy: 0.9176\n",
            "Epoch 13/20\n",
            "38/38 [==============================] - 18s 482ms/step - loss: 0.2081 - accuracy: 0.9401 - val_loss: 0.3311 - val_accuracy: 0.9176\n",
            "Epoch 14/20\n",
            "38/38 [==============================] - 18s 481ms/step - loss: 0.2044 - accuracy: 0.9356 - val_loss: 0.3378 - val_accuracy: 0.9118\n",
            "Epoch 15/20\n",
            "38/38 [==============================] - 18s 483ms/step - loss: 0.2296 - accuracy: 0.9285 - val_loss: 0.3415 - val_accuracy: 0.9059\n",
            "Epoch 16/20\n",
            "38/38 [==============================] - 18s 482ms/step - loss: 0.1927 - accuracy: 0.9356 - val_loss: 0.3404 - val_accuracy: 0.9118\n",
            "Epoch 17/20\n",
            "38/38 [==============================] - 18s 481ms/step - loss: 0.1249 - accuracy: 0.9627 - val_loss: 0.3417 - val_accuracy: 0.9059\n",
            "Epoch 18/20\n",
            "38/38 [==============================] - 19s 490ms/step - loss: 0.1587 - accuracy: 0.9519 - val_loss: 0.3366 - val_accuracy: 0.9118\n",
            "Epoch 19/20\n",
            "38/38 [==============================] - 18s 481ms/step - loss: 0.1610 - accuracy: 0.9455 - val_loss: 0.3321 - val_accuracy: 0.9118\n",
            "Epoch 20/20\n",
            "38/38 [==============================] - 18s 485ms/step - loss: 0.1944 - accuracy: 0.9342 - val_loss: 0.3340 - val_accuracy: 0.9176\n"
          ],
          "name": "stdout"
        }
      ]
    },
    {
      "cell_type": "code",
      "metadata": {
        "colab": {
          "base_uri": "https://localhost:8080/",
          "height": 257
        },
        "id": "zUNblJZTg4wD",
        "outputId": "13e644da-fc3b-4d19-82b1-c9b9270e3fd8"
      },
      "source": [
        "plt.figure(figsize=(14,4))\n",
        "plt.subplot(1,2,1)\n",
        "plt.plot(history.history['loss'],'r')\n",
        "plt.plot(history.history['val_loss'],':g')\n",
        "plt.title('Loss',fontsize=14)\n",
        "plt.xlabel('Epochs',fontsize=14)\n",
        "plt.legend(('loss','val_loss'))\n",
        "plt.grid()\n",
        "\n",
        "plt.subplot(1,2,2)\n",
        "plt.plot(history.history['accuracy'],'r')\n",
        "plt.plot(history.history['val_accuracy'],':g')\n",
        "plt.ylim([0, 1])\n",
        "plt.legend(('accuracy','val_accuracy'))\n",
        "plt.title('Accuracy',fontsize=12)\n",
        "plt.xlabel('Epochs',fontsize=12)\n",
        "plt.grid()"
      ],
      "execution_count": null,
      "outputs": [
        {
          "output_type": "display_data",
          "data": {
            "image/png": "[encoded data removed]",
            "text/plain": [
              "<Figure size 1008x288 with 2 Axes>"
            ]
          },
          "metadata": {
            "tags": [],
            "needs_background": "light"
          }
        }
      ]
    },
    {
      "cell_type": "markdown",
      "metadata": {
        "id": "DhtasNQPEjY0"
      },
      "source": [
        "***\n",
        "## Good Luck!"
      ]
    }
  ]
}