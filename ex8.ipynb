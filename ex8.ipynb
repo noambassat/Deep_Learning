{
 "cells": [
  {
   "cell_type": "markdown",
   "metadata": {
    "id": "5aTEINytrfiJ"
   },
   "source": [
    "# Deep Learning: Ex.8 - RNN\n",
    "\n",
    "Submitted by: Noam Bassat 308465434\n"
   ]
  },
  {
   "cell_type": "code",
   "execution_count": 1,
   "metadata": {
    "colab": {
     "base_uri": "https://localhost:8080/"
    },
    "id": "pBd7BHCXrfiK",
    "outputId": "bb006259-4ba4-495f-9bec-0af4c6723387"
   },
   "outputs": [
    {
     "name": "stdout",
     "output_type": "stream",
     "text": [
      "2.4.0\n"
     ]
    }
   ],
   "source": [
    "# TensorFlow and tf.keras\n",
    "import tensorflow as tf\n",
    "from tensorflow.keras.models import Sequential, Model\n",
    "from tensorflow.keras.layers import Dense, Dropout, Activation, Flatten, Input\n",
    "from tensorflow.keras.layers import SimpleRNN, LSTM # <--- recurrent layers\n",
    "\n",
    "# Helper libraries\n",
    "import numpy as np\n",
    "import matplotlib.pyplot as plt\n",
    "from seaborn import heatmap\n",
    "\n",
    "print(tf.__version__)"
   ]
  },
  {
   "cell_type": "markdown",
   "metadata": {
    "id": "WenBLJ9IrfiM"
   },
   "source": [
    "***\n",
    "### 1. Preprocess the text corpus\n",
    "\n",
    "(if you are using google colab, remember to upload the corpus file first..)"
   ]
  },
  {
   "cell_type": "code",
   "execution_count": 2,
   "metadata": {
    "colab": {
     "base_uri": "https://localhost:8080/"
    },
    "id": "773otVzXrfiM",
    "outputId": "aac58e4f-1aad-4d8a-be48-386fe514490e"
   },
   "outputs": [
    {
     "name": "stdout",
     "output_type": "stream",
     "text": [
      "len(text) =  3196213\n",
      "﻿\"well, prince, so genoa and lucca are now just family estates of the buonapartes. but i warn you, if you don't tell me that this means war, if you still try to defend the infamies and horrors perpetrated by that antichrist--i really believe he is antichrist--i will have nothing more to do with you and you are no longer my friend, no longer my 'faithful slave,' as you call yourself! but how do you\n"
     ]
    }
   ],
   "source": [
    "f = open('war_and_peace.txt','r') # open the corpus file\n",
    "\n",
    "text = f.read().lower()  # read file and convert to lower-case letters\n",
    "\n",
    "text = text.replace('\\n',' ')\n",
    "\n",
    "print('len(text) = ',len(text))\n",
    "\n",
    "print(text[:400]) # print the first 400 characters.."
   ]
  },
  {
   "cell_type": "markdown",
   "metadata": {
    "id": "f_EHMsgvrfiM"
   },
   "source": [
    "- generate training sequences of `T=20` characters, by sampling the text corpus with a stride of 5 characters (i.e., each sequences starts 5 chars after the begining of the last sequences).\n",
    "\n",
    "- generate a matching list, holding the `next_char` for each of your sequences.\n",
    "\n",
    "- how many sequences did you extract in total? `N = 639243 =~ len(text)/5`\n",
    "\n",
    "- convert the sequences into a 1-hot representation, suitable for our model trainig:\n",
    "\n",
    "`X.shape = (N, T, len(chars))`\n",
    "\n",
    "`Y.shape = (N, len(chars))`"
   ]
  },
  {
   "cell_type": "code",
   "execution_count": 3,
   "metadata": {
    "colab": {
     "base_uri": "https://localhost:8080/"
    },
    "id": "ZsHmxI1frfiN",
    "outputId": "bd64afbc-90d6-440b-abf5-7423d2bfe988"
   },
   "outputs": [
    {
     "name": "stdout",
     "output_type": "stream",
     "text": [
      "X.shape = (#examples, T, input-dim) = (639239, 20, 56)\n",
      "Y.shape = (#examples, output-dim) = (639239, 56)\n"
     ]
    }
   ],
   "source": [
    "chars = sorted(list(set(text)))\n",
    "data_size, vocab_size = len(text), len(chars)\n",
    "\n",
    "char_to_ix = { ch:i for i,ch in enumerate(chars) }\n",
    "ix_to_char = { i:ch for i,ch in enumerate(chars) }\n",
    "\n",
    "T = 20  \n",
    "stride = 5\n",
    "\n",
    "sequences = []  \n",
    "next_chars = []\n",
    "\n",
    "for i in range(0, len(text) - T, stride):\n",
    "    sequences.append(text[i: i + T])\n",
    "    next_chars.append(text[i + T])\n",
    "\n",
    "X = np.zeros((len(sequences), T, len(chars)), dtype='bool')\n",
    "Y = np.zeros((len(sequences), len(chars)), dtype='bool')\n",
    "\n",
    "for i, seq in enumerate(sequences):\n",
    "    for t, char in enumerate(seq):\n",
    "        X[i, t, char_to_ix[char]] = 1\n",
    "    Y[i, char_to_ix[next_chars[i]]] = 1\n",
    "    \n",
    "print('X.shape = (#examples, T, input-dim) =', X.shape)\n",
    "print('Y.shape = (#examples, output-dim) =', Y.shape)"
   ]
  },
  {
   "cell_type": "markdown",
   "metadata": {
    "id": "h5qWoUgqrfiN"
   },
   "source": [
    "***\n",
    "### 2. LTSM Model\n",
    "\n",
    "- Build an `LTSM` model with 128 (hidden)-units that accepts the input sequences. Add a `Dense` layer on top of it, with `len(chars)` softmax units.\n",
    "\n",
    "- Train the model for only 1 epoch (use: `RMSprop` and batch size of 128).\n",
    "\n"
   ]
  },
  {
   "cell_type": "code",
   "execution_count": 4,
   "metadata": {
    "colab": {
     "base_uri": "https://localhost:8080/"
    },
    "id": "3jhGlGV2rfiO",
    "outputId": "245ec35a-0199-43d1-ffb0-db092f0a44e2"
   },
   "outputs": [
    {
     "name": "stdout",
     "output_type": "stream",
     "text": [
      "Model: \"sequential\"\n",
      "_________________________________________________________________\n",
      "Layer (type)                 Output Shape              Param #   \n",
      "=================================================================\n",
      "lstm (LSTM)                  (None, 128)               94720     \n",
      "_________________________________________________________________\n",
      "dense (Dense)                (None, 56)                7224      \n",
      "=================================================================\n",
      "Total params: 101,944\n",
      "Trainable params: 101,944\n",
      "Non-trainable params: 0\n",
      "_________________________________________________________________\n"
     ]
    }
   ],
   "source": [
    "model = Sequential()\n",
    "model.add(Input(shape=(T, len(chars))))  # (12,27)\n",
    "model.add(LSTM(128))\n",
    "model.add(Dense(len(chars), activation=\"softmax\"))\n",
    "model.summary()"
   ]
  },
  {
   "cell_type": "code",
   "execution_count": 5,
   "metadata": {
    "colab": {
     "base_uri": "https://localhost:8080/"
    },
    "id": "Bmpb4bcmrfiO",
    "outputId": "5b37e245-e2eb-4457-c73d-9854bb7effdc"
   },
   "outputs": [
    {
     "name": "stdout",
     "output_type": "stream",
     "text": [
      "4995/4995 [==============================] - 24s 4ms/step - loss: 2.3722\n"
     ]
    }
   ],
   "source": [
    "model.compile(loss='categorical_crossentropy', optimizer='rmsprop')\n",
    "\n",
    "history = model.fit(X, Y, epochs=1, batch_size=128)"
   ]
  },
  {
   "cell_type": "markdown",
   "metadata": {
    "id": "-Ij5ilpbrfiP"
   },
   "source": [
    "### 3. Model predictions\n",
    "\n",
    "\n",
    "- use the senternce `the meaning of life is ` as an input to the model (convert it to 1-hot first..),\n",
    "\n",
    "- plot the model's output as a probability distribution over the list of chars.\n",
    "\n",
    "- sample a single char from that distribution, and add it to the generated sentence.\n",
    "\n",
    "- update the 1-hot buffer, and continue the process for 99 more letters (using a loop).\n",
    "\n",
    "- print the resulting sentence."
   ]
  },
  {
   "cell_type": "code",
   "execution_count": 8,
   "metadata": {
    "id": "fXwqwvdArfiP"
   },
   "outputs": [],
   "source": [
    "txt = \"the meaning of life \"\n",
    "def predict_txt(txt):\n",
    "  X1 = np.zeros((1,len(txt), len(chars)), dtype='bool')\n",
    "  for t, char in enumerate(txt):\n",
    "    X1[0, t, char_to_ix[char]] = 1\n",
    "\n",
    "    input_buffer = X1[0] \n",
    "    generated_text = txt\n",
    "\n",
    "    yy = []\n",
    "\n",
    "  for i in range(100):\n",
    "      yhat = model.predict(input_buffer[None,:])[0]\n",
    "\n",
    "      # sample the next character:\n",
    "      # ix = np.argmax(yhat)\n",
    "      ix = np.random.choice(range(len(chars)), p=yhat)\n",
    "\n",
    "      ch = ix_to_char[ix]\n",
    "      generated_text += ch\n",
    "\n",
    "      # update the input buffer:\n",
    "      input_buffer = np.r_[input_buffer[1:,:], np.zeros((1,len(chars)))]\n",
    "      input_buffer[-1,ix] = 1\n",
    "\n",
    "      yy.append(yhat)\n",
    "  plt.figure(figsize=(14,4)) \n",
    "  plt.bar(range(len(chars)), yy[0])\n",
    "  plt.xticks(range(len(chars)), labels=chars)\n",
    "  plt.show()\n",
    "  print(generated_text)"
   ]
  },
  {
   "cell_type": "code",
   "execution_count": 7,
   "metadata": {
    "colab": {
     "base_uri": "https://localhost:8080/",
     "height": 283
    },
    "id": "aROklLtQrfiQ",
    "outputId": "705c2f6d-0aa8-4488-f181-2a943cc0653c"
   },
   "outputs": [
    {
     "data": {
      "image/png": "[encoded data removed]",
      "text/plain": [
       "<Figure size 1008x288 with 1 Axes>"
      ]
     },
     "metadata": {
      "needs_background": "light",
      "tags": []
     },
     "output_type": "display_data"
    },
    {
     "name": "stdout",
     "output_type": "stream",
     "text": [
      "the meaning of life therad tostor ot if the gent on sidereding for to the hows shoule, himsercel, fullersers. standing t\n"
     ]
    }
   ],
   "source": [
    "\n",
    "predict_txt(txt)"
   ]
  },
  {
   "cell_type": "code",
   "execution_count": 8,
   "metadata": {
    "colab": {
     "base_uri": "https://localhost:8080/"
    },
    "id": "4VR-FMAiusYH",
    "outputId": "e685957e-6707-4dbb-9da8-611b469831be"
   },
   "outputs": [
    {
     "data": {
      "text/plain": [
       "20"
      ]
     },
     "execution_count": 8,
     "metadata": {
      "tags": []
     },
     "output_type": "execute_result"
    }
   ],
   "source": [
    "len(txt)"
   ]
  },
  {
   "cell_type": "markdown",
   "metadata": {
    "id": "uLEo3B7XrfiQ"
   },
   "source": [
    "***\n",
    "### 3. Fit your model\n",
    "\n",
    "- Fit your model a bit more (try 10 epochs), and regenerate a new `N=100` sentence sample. Does it get any better?\n",
    "\n",
    "- Continue to fit the model (try 50 epochs), and again - generate a few more sampled sentences.\n",
    "\n",
    "- You can try to the model further, and see what happens (you can also try to generate longer samples).\n",
    "\n",
    "- If you wish, you can try using a different corpus (text) for the training (you can even try a text in hebrew). have fun!"
   ]
  },
  {
   "cell_type": "code",
   "execution_count": 9,
   "metadata": {
    "colab": {
     "base_uri": "https://localhost:8080/",
     "height": 629
    },
    "id": "1gxZIwuVrfiR",
    "outputId": "8765d1f6-67d6-4258-e0f4-dd8661daedf9"
   },
   "outputs": [
    {
     "name": "stdout",
     "output_type": "stream",
     "text": [
      "Epoch 1/10\n",
      "4995/4995 [==============================] - 21s 4ms/step - loss: 1.6990\n",
      "Epoch 2/10\n",
      "4995/4995 [==============================] - 21s 4ms/step - loss: 1.5598\n",
      "Epoch 3/10\n",
      "4995/4995 [==============================] - 21s 4ms/step - loss: 1.4836\n",
      "Epoch 4/10\n",
      "4995/4995 [==============================] - 21s 4ms/step - loss: 1.4340\n",
      "Epoch 5/10\n",
      "4995/4995 [==============================] - 21s 4ms/step - loss: 1.3985\n",
      "Epoch 6/10\n",
      "4995/4995 [==============================] - 21s 4ms/step - loss: 1.3715\n",
      "Epoch 7/10\n",
      "4995/4995 [==============================] - 21s 4ms/step - loss: 1.3504\n",
      "Epoch 8/10\n",
      "4995/4995 [==============================] - 21s 4ms/step - loss: 1.3327\n",
      "Epoch 9/10\n",
      "4995/4995 [==============================] - 21s 4ms/step - loss: 1.3183\n",
      "Epoch 10/10\n",
      "4995/4995 [==============================] - 21s 4ms/step - loss: 1.3055\n"
     ]
    },
    {
     "data": {
      "image/png": "[encoded data removed]",
      "text/plain": [
       "<Figure size 1008x288 with 1 Axes>"
      ]
     },
     "metadata": {
      "needs_background": "light",
      "tags": []
     },
     "output_type": "display_data"
    },
    {
     "name": "stdout",
     "output_type": "stream",
     "text": [
      "the meaning of life spaced quite on from the soldier of the brotherints.  pierre just and with so.\" he insidess moved wi\n"
     ]
    }
   ],
   "source": [
    "history = model.fit(X, Y, epochs=10, batch_size=128)\n",
    "predict_txt(txt)"
   ]
  },
  {
   "cell_type": "code",
   "execution_count": 10,
   "metadata": {
    "colab": {
     "base_uri": "https://localhost:8080/",
     "height": 1000
    },
    "id": "-yMS9tfWrfiS",
    "outputId": "416fc01c-98d9-4895-c2b5-78b4ebac2bd0"
   },
   "outputs": [
    {
     "name": "stdout",
     "output_type": "stream",
     "text": [
      "Epoch 1/50\n",
      "4995/4995 [==============================] - 21s 4ms/step - loss: 1.2945\n",
      "Epoch 2/50\n",
      "4995/4995 [==============================] - 21s 4ms/step - loss: 1.2853\n",
      "Epoch 3/50\n",
      "4995/4995 [==============================] - 21s 4ms/step - loss: 1.2766\n",
      "Epoch 4/50\n",
      "4995/4995 [==============================] - 21s 4ms/step - loss: 1.2690\n",
      "Epoch 5/50\n",
      "4995/4995 [==============================] - 21s 4ms/step - loss: 1.2622\n",
      "Epoch 6/50\n",
      "4995/4995 [==============================] - 21s 4ms/step - loss: 1.2559\n",
      "Epoch 7/50\n",
      "4995/4995 [==============================] - 21s 4ms/step - loss: 1.2505\n",
      "Epoch 8/50\n",
      "4995/4995 [==============================] - 21s 4ms/step - loss: 1.2453\n",
      "Epoch 9/50\n",
      "4995/4995 [==============================] - 21s 4ms/step - loss: 1.2409\n",
      "Epoch 10/50\n",
      "4995/4995 [==============================] - 21s 4ms/step - loss: 1.2363\n",
      "Epoch 11/50\n",
      "4995/4995 [==============================] - 21s 4ms/step - loss: 1.2327\n",
      "Epoch 12/50\n",
      "4995/4995 [==============================] - 21s 4ms/step - loss: 1.2284\n",
      "Epoch 13/50\n",
      "4995/4995 [==============================] - 21s 4ms/step - loss: 1.2247\n",
      "Epoch 14/50\n",
      "4995/4995 [==============================] - 21s 4ms/step - loss: 1.2215\n",
      "Epoch 15/50\n",
      "4995/4995 [==============================] - 21s 4ms/step - loss: 1.2184\n",
      "Epoch 16/50\n",
      "4995/4995 [==============================] - 21s 4ms/step - loss: 1.2152\n",
      "Epoch 17/50\n",
      "4995/4995 [==============================] - 21s 4ms/step - loss: 1.2129\n",
      "Epoch 18/50\n",
      "4995/4995 [==============================] - 22s 4ms/step - loss: 1.2102\n",
      "Epoch 19/50\n",
      "4995/4995 [==============================] - 22s 4ms/step - loss: 1.2074\n",
      "Epoch 20/50\n",
      "4995/4995 [==============================] - 22s 4ms/step - loss: 1.2053\n",
      "Epoch 21/50\n",
      "4995/4995 [==============================] - 22s 4ms/step - loss: 1.2029\n",
      "Epoch 22/50\n",
      "4995/4995 [==============================] - 22s 4ms/step - loss: 1.2011\n",
      "Epoch 23/50\n",
      "4995/4995 [==============================] - 22s 4ms/step - loss: 1.1988\n",
      "Epoch 24/50\n",
      "4995/4995 [==============================] - 22s 4ms/step - loss: 1.1972\n",
      "Epoch 25/50\n",
      "4995/4995 [==============================] - 22s 4ms/step - loss: 1.1951\n",
      "Epoch 26/50\n",
      "4995/4995 [==============================] - 22s 4ms/step - loss: 1.1935\n",
      "Epoch 27/50\n",
      "4995/4995 [==============================] - 22s 4ms/step - loss: 1.1922\n",
      "Epoch 28/50\n",
      "4995/4995 [==============================] - 22s 4ms/step - loss: 1.1903\n",
      "Epoch 29/50\n",
      "4995/4995 [==============================] - 22s 4ms/step - loss: 1.1885\n",
      "Epoch 30/50\n",
      "4995/4995 [==============================] - 22s 4ms/step - loss: 1.1874\n",
      "Epoch 31/50\n",
      "4995/4995 [==============================] - 22s 4ms/step - loss: 1.1861\n",
      "Epoch 32/50\n",
      "4995/4995 [==============================] - 22s 4ms/step - loss: 1.1849\n",
      "Epoch 33/50\n",
      "4995/4995 [==============================] - 22s 4ms/step - loss: 1.1838\n",
      "Epoch 34/50\n",
      "4995/4995 [==============================] - 22s 4ms/step - loss: 1.1820\n",
      "Epoch 35/50\n",
      "4995/4995 [==============================] - 22s 4ms/step - loss: 1.1812\n",
      "Epoch 36/50\n",
      "4995/4995 [==============================] - 22s 4ms/step - loss: 1.1796\n",
      "Epoch 37/50\n",
      "4995/4995 [==============================] - 22s 4ms/step - loss: 1.1785\n",
      "Epoch 38/50\n",
      "4995/4995 [==============================] - 22s 4ms/step - loss: 1.1782\n",
      "Epoch 39/50\n",
      "4995/4995 [==============================] - 21s 4ms/step - loss: 1.1776\n",
      "Epoch 40/50\n",
      "4995/4995 [==============================] - 21s 4ms/step - loss: 1.1758\n",
      "Epoch 41/50\n",
      "4995/4995 [==============================] - 21s 4ms/step - loss: 1.1756\n",
      "Epoch 42/50\n",
      "4995/4995 [==============================] - 21s 4ms/step - loss: 1.1741\n",
      "Epoch 43/50\n",
      "4995/4995 [==============================] - 21s 4ms/step - loss: 1.1732\n",
      "Epoch 44/50\n",
      "4995/4995 [==============================] - 21s 4ms/step - loss: 1.1725\n",
      "Epoch 45/50\n",
      "4995/4995 [==============================] - 21s 4ms/step - loss: 1.1718\n",
      "Epoch 46/50\n",
      "4995/4995 [==============================] - 21s 4ms/step - loss: 1.1709\n",
      "Epoch 47/50\n",
      "4995/4995 [==============================] - 21s 4ms/step - loss: 1.1704\n",
      "Epoch 48/50\n",
      "4995/4995 [==============================] - 21s 4ms/step - loss: 1.1698\n",
      "Epoch 49/50\n",
      "4995/4995 [==============================] - 21s 4ms/step - loss: 1.1692\n",
      "Epoch 50/50\n",
      "4995/4995 [==============================] - 21s 4ms/step - loss: 1.1687\n"
     ]
    },
    {
     "data": {
      "image/png": "[encoded data removed]",
      "text/plain": [
       "<Figure size 1008x288 with 1 Axes>"
      ]
     },
     "metadata": {
      "needs_background": "light",
      "tags": []
     },
     "output_type": "display_data"
    },
    {
     "name": "stdout",
     "output_type": "stream",
     "text": [
      "the meaning of life would beev imagines, but he alles his mother. on the year remints their men to the door she turned s\n"
     ]
    }
   ],
   "source": [
    "history = model.fit(X, Y, epochs=50, batch_size=128)\n",
    "predict_txt(txt)"
   ]
  },
  {
   "cell_type": "markdown",
   "metadata": {
    "id": "hQgDv7kIrfiS"
   },
   "source": [
    "***\n",
    "## Good Luck!"
   ]
  }
 ],
 "metadata": {
  "accelerator": "GPU",
  "colab": {
   "collapsed_sections": [],
   "name": "ex8.ipynb",
   "provenance": []
  },
  "kernelspec": {
   "display_name": "Python 3",
   "language": "python",
   "name": "python3"
  },
  "language_info": {
   "codemirror_mode": {
    "name": "ipython",
    "version": 3
   },
   "file_extension": ".py",
   "mimetype": "text/x-python",
   "name": "python",
   "nbconvert_exporter": "python",
   "pygments_lexer": "ipython3",
   "version": "3.8.3"
  },
  "toc": {
   "base_numbering": 1,
   "nav_menu": {},
   "number_sections": true,
   "sideBar": true,
   "skip_h1_title": false,
   "title_cell": "Table of Contents",
   "title_sidebar": "Contents",
   "toc_cell": false,
   "toc_position": {},
   "toc_section_display": true,
   "toc_window_display": true
  }
 },
 "nbformat": 4,
 "nbformat_minor": 1
}
